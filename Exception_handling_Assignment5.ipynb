{
 "cells": [
  {
   "cell_type": "markdown",
   "metadata": {},
   "source": [
    "Exception handling assignment5"
   ]
  },
  {
   "cell_type": "markdown",
   "metadata": {},
   "source": [
    "1. Write a function to compute 5/0 and use try/except to catch the exceptions."
   ]
  },
  {
   "cell_type": "code",
   "execution_count": 18,
   "metadata": {},
   "outputs": [],
   "source": [
    "def catch_zerodivision_exception() :\n",
    "    try :\n",
    "        a=5/0\n",
    "    except:\n",
    "        print(\"u cannot have denominator as 0 :ZeroDivisionError\")"
   ]
  },
  {
   "cell_type": "code",
   "execution_count": 19,
   "metadata": {},
   "outputs": [
    {
     "name": "stdout",
     "output_type": "stream",
     "text": [
      "u cannot have denominator as 0 :ZeroDivisionError\n"
     ]
    }
   ],
   "source": [
    "catch_zerodivision_exception()"
   ]
  },
  {
   "cell_type": "markdown",
   "metadata": {},
   "source": [
    "\n",
    "2. Implement a Python program to generate all sentences where subject is in\n",
    "[\"Americans\", \"Indians\"] and verb is in [\"Play\", \"watch\"] and the object is in\n",
    "[\"Baseball\",\"cricket\"].\n",
    "\n",
    "Hint: Subject,Verb and Object should be declared in the program as shown below.\n",
    "subjects=[\"Americans \",\"Indians\"]\n",
    "verbs=[\"play\",\"watch\"]\n",
    "objects=[\"Baseball\",\"Cricket\"]\n",
    "\n",
    "Output should come as below:\n",
    "\n",
    "\n",
    "Americans play Baseball.                               \n",
    "Americans play Cricket.                                           \n",
    "Americans watch Baseball.                                      \n",
    "Americans watch Cricket.                                                  \n",
    "Indians play Baseball.                                                       \n",
    "Indians play Cricket.                                                             \n",
    "Indians watch Baseball.                                                     \n",
    "Indians watch Cricket.                                           "
   ]
  },
  {
   "cell_type": "code",
   "execution_count": 37,
   "metadata": {},
   "outputs": [
    {
     "name": "stdout",
     "output_type": "stream",
     "text": [
      "Americans  play Baseball.\n",
      "Americans  play Cricket.\n",
      "Americans  watch Baseball.\n",
      "Americans  watch Cricket.\n",
      "Indians play Baseball.\n",
      "Indians play Cricket.\n",
      "Indians watch Baseball.\n",
      "Indians watch Cricket.\n"
     ]
    }
   ],
   "source": [
    "subjects=[\"Americans \",\"Indians\"] \n",
    "verbs=[\"play\",\"watch\"] \n",
    "objects=[\"Baseball\",\"Cricket\"]\n",
    "#print(subjects,verbs,objects)\n",
    "for i in range(len(subjects)):\n",
    "    #print(i)\n",
    "    for j in range(len(verbs)):\n",
    "        for k in range(len(objects)):\n",
    "            print(subjects[i]+' '+verbs[j]+' '+objects[k]+ '.')\n",
    "            \n",
    "    '''comments are for my reference\n",
    "    print(subjects[i]+' '+verbs[0]+' '+objects[0])\n",
    "    print(subjects[i]+' '+verbs[0]+' '+objects[1])\n",
    "    print(subjects[i]+' '+verbs[1]+' '+objects[0])\n",
    "    print(subjects[i]+' '+verbs[1]+' '+objects[1])'''"
   ]
  }
 ],
 "metadata": {
  "kernelspec": {
   "display_name": "Python 3",
   "language": "python",
   "name": "python3"
  },
  "language_info": {
   "codemirror_mode": {
    "name": "ipython",
    "version": 3
   },
   "file_extension": ".py",
   "mimetype": "text/x-python",
   "name": "python",
   "nbconvert_exporter": "python",
   "pygments_lexer": "ipython3",
   "version": "3.7.6"
  }
 },
 "nbformat": 4,
 "nbformat_minor": 4
}
